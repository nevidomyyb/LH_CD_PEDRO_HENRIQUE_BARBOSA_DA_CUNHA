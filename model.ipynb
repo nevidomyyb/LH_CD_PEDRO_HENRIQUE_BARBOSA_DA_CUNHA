{
 "cells": [
  {
   "cell_type": "markdown",
   "id": "70a6361e",
   "metadata": {},
   "source": [
    "#### Entrega - Modelo e Previsão\n",
    "\n",
    "> Explique como você faria a previsão da nota do imdb a partir dos dados. Quais variáveis e/ou suas transformações você utilizou e por quê? Qual tipo de problema estamos resolvendo (regressão, classificação)? Qual modelo melhor se aproxima dos dados e quais seus prós e contras? Qual medida de performance do modelo foi escolhida e por quê?\n",
    "\n",
    "Primeiramente, esse é um problema de regressão, estamos prevendo o valor de uma variável numérica (IMDB_Rating) a partir das variáveis independentes. Considerando que o dataset tem valores limitados de IMDB_Rating, por causa de algum filtro ou da origem do dataset, esse poderia também ser um problema de classificação ao criar categorías de baixo, médio ou alto rating IMDB, mas irei continuar como um problema de regressão.\n",
    "\n",
    "Para fazer a previsão irei utilizar os dados e aplicar transformações e feature engineering para obter o máximo de informação possível dos dados, por exemplo:\n",
    "- A partir do Overview pude utilizar um processo de NLP (NLTK + CountVectorizer) para transformar o em embeddings e conseguir as 300 keywords e com isso ter uma nova feature de No_keywords no dataset.\n",
    "- Com Overview também criei a feature Overview_length, que é a quantidade total de palavras do Overview.\n",
    "- Transformei Released_Year -> Released_Year_Group, pegando a divisão inteira por 10 e multiplicando por 10 para agrupar o ano de lançamento em agrupamentos de 10 em 10 anos.\n",
    "- Separei o Runtime para Runtime_time e Runtime_category, como só temos filmes com o Runtime em minutos, posso descartar essa feature, com Runtime_time obtive o Runtime_category, com filmes short, medium ou long duration.\n",
    "- Com genre irei aplicar uma transformação a depender do algoritmo que estiver usando, como Count ou Target Encoding, mas também criei uma feature No_Genres que conta o número de genêros no filme.\n",
    "- Director também irei precisar aplicar uma transformação, como o Label Encodding por exemplo, mas também utilizei para criar a feature Director_No_Movies que conta quantos filmes o diretor produziu.\n",
    "\n",
    "Em relação as outras variáveis númericas irei testar transformações como normalização e escalonamento.\n",
    "\n",
    "Sobre os modelos e métricas irei descorrer melhor sobre isso no relatório completo (PDF)\n"
   ]
  },
  {
   "cell_type": "code",
   "execution_count": 7,
   "id": "f051f7c0",
   "metadata": {},
   "outputs": [
    {
     "data": {
      "text/plain": [
       "Series_Title             0\n",
       "Released_Year            0\n",
       "Certificate              0\n",
       "Runtime                  0\n",
       "Genre                    0\n",
       "IMDB_Rating              0\n",
       "Overview                 0\n",
       "Meta_score             157\n",
       "Director                 0\n",
       "Star1                    0\n",
       "Star2                    0\n",
       "Star3                    0\n",
       "Star4                    0\n",
       "No_of_Votes              0\n",
       "Gross                    0\n",
       "Runtime_time             0\n",
       "Runtime_type             0\n",
       "No_keywords              0\n",
       "Released_Year_Group      0\n",
       "Runtime_category         0\n",
       "No_Genres                0\n",
       "Director_No_Movies       0\n",
       "Overview_length          0\n",
       "dtype: int64"
      ]
     },
     "execution_count": 7,
     "metadata": {},
     "output_type": "execute_result"
    }
   ],
   "source": [
    "import pandas as pd\n",
    "import numpy as np\n",
    "from sklearn.pipeline import Pipeline\n",
    "from sklearn.model_selection import RandomizedSearchCV\n",
    "from sklearn.preprocessing import OneHotEncoder, LabelEncoder, StandardScaler, MultiLabelBinarizer\n",
    "from sklearn.compose import ColumnTransformer\n",
    "from sklearn import metrics\n",
    "from sklearn.impute import SimpleImputer\n",
    "\n",
    "dataset =  pd.read_csv('./desafio_indicium_imdb_after_process.csv', index_col=0)\n",
    "dataset.head(3)\n",
    "dataset.isna().sum()"
   ]
  },
  {
   "cell_type": "code",
   "execution_count": null,
   "id": "4628756b",
   "metadata": {},
   "outputs": [
    {
     "name": "stdout",
     "output_type": "stream",
     "text": [
      "['Series_Title', 'Released_Year', 'Certificate', 'Runtime', 'Genre', 'IMDB_Rating', 'Overview', 'Meta_score', 'Director', 'Star1', 'Star2', 'Star3', 'Star4', 'No_of_Votes', 'Gross', 'Runtime_time', 'Runtime_type', 'No_keywords', 'Released_Year_Group', 'Runtime_category', 'No_Genres', 'Director_No_Movies', 'Overview_length']\n"
     ]
    }
   ],
   "source": [
    "string_var = ['Series_Title', 'Overview']\n",
    "cat_var = ['Certificate', 'Genre', 'Director', 'Star1', 'Star2', 'Star3', 'Star4']\n",
    "numeric_var = ['Released_Year', 'Runtime_time', 'Meta_score', 'No_of_Votes','Gross', 'No_keywords', 'Released_Year_Group', 'No_Genres', 'Director_No_Movies', 'Overview_length']\n",
    "\n",
    "X = dataset[string_var + cat_var + numeric_var]\n",
    "y = dataset['IMDB_Rating']\n"
   ]
  },
  {
   "cell_type": "code",
   "execution_count": null,
   "id": "e0c6982b",
   "metadata": {},
   "outputs": [],
   "source": [
    "# Basemodel com Lasso Regression (L1)\n",
    "\n",
    "from sklearn.linear_model import LassoCV\n",
    "from sklearn.model_selection import train_test_split\n",
    "\n",
    "num_pipeline = Pipeline(\n",
    "    steps=[\n",
    "        ('imputer', SimpleImputer(strategy='median')),\n",
    "        ('scaler', StandardScaler())\n",
    "    ]\n",
    ")\n",
    "\n",
    "genre_pipeline = \n",
    "\n"
   ]
  }
 ],
 "metadata": {
  "kernelspec": {
   "display_name": ".venv",
   "language": "python",
   "name": "python3"
  },
  "language_info": {
   "codemirror_mode": {
    "name": "ipython",
    "version": 3
   },
   "file_extension": ".py",
   "mimetype": "text/x-python",
   "name": "python",
   "nbconvert_exporter": "python",
   "pygments_lexer": "ipython3",
   "version": "3.11.2"
  }
 },
 "nbformat": 4,
 "nbformat_minor": 5
}

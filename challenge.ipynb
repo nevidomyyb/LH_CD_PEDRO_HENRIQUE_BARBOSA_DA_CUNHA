{
 "cells": [
  {
   "cell_type": "code",
   "execution_count": null,
   "id": "46581691",
   "metadata": {},
   "outputs": [],
   "source": [
    "import pandas as pd\n",
    "import numpy as np"
   ]
  },
  {
   "cell_type": "code",
   "execution_count": 27,
   "id": "33273153",
   "metadata": {},
   "outputs": [
    {
     "name": "stdout",
     "output_type": "stream",
     "text": [
      "    Series_Title Released_Year Certificate  Runtime         Genre  \\\n",
      "1  The Godfather          1972           A  175 min  Crime, Drama   \n",
      "\n",
      "   IMDB_Rating                                           Overview  Meta_score  \\\n",
      "1          9.2  An organized crime dynasty's aging patriarch t...       100.0   \n",
      "\n",
      "               Director          Star1      Star2       Star3         Star4  \\\n",
      "1  Francis Ford Coppola  Marlon Brando  Al Pacino  James Caan  Diane Keaton   \n",
      "\n",
      "   No_of_Votes        Gross  \n",
      "1      1620367  134,966,411  \n",
      "<class 'pandas.core.frame.DataFrame'>\n",
      "Index: 999 entries, 1 to 999\n",
      "Data columns (total 15 columns):\n",
      " #   Column         Non-Null Count  Dtype  \n",
      "---  ------         --------------  -----  \n",
      " 0   Series_Title   999 non-null    object \n",
      " 1   Released_Year  999 non-null    object \n",
      " 2   Certificate    898 non-null    object \n",
      " 3   Runtime        999 non-null    object \n",
      " 4   Genre          999 non-null    object \n",
      " 5   IMDB_Rating    999 non-null    float64\n",
      " 6   Overview       999 non-null    object \n",
      " 7   Meta_score     842 non-null    float64\n",
      " 8   Director       999 non-null    object \n",
      " 9   Star1          999 non-null    object \n",
      " 10  Star2          999 non-null    object \n",
      " 11  Star3          999 non-null    object \n",
      " 12  Star4          999 non-null    object \n",
      " 13  No_of_Votes    999 non-null    int64  \n",
      " 14  Gross          830 non-null    object \n",
      "dtypes: float64(2), int64(1), object(12)\n",
      "memory usage: 124.9+ KB\n",
      "None\n",
      "Certificate    101\n",
      "Meta_score     157\n",
      "Gross          169\n",
      "dtype: int64\n"
     ]
    }
   ],
   "source": [
    "dataset = pd.read_csv('desafio_indicium_imdb.csv', index_col=0)\n",
    "print(dataset.head(1))\n",
    "print(dataset.info())\n",
    "print(dataset.isna().sum()[dataset.isna().sum() > 0])"
   ]
  },
  {
   "cell_type": "code",
   "execution_count": 35,
   "id": "294d427e",
   "metadata": {},
   "outputs": [
    {
     "name": "stdout",
     "output_type": "stream",
     "text": [
      "[100.  84.  90.  96.  94.  74.  66.  92.  82.  87.  73.  83.  nan  79.\n",
      "  91.  61.  59.  65.  85.  98.  89.  88.  57.  67.  62.  77.  64.  75.\n",
      "  80.  97.  99.  78.  68.  81.  95.  76.  69.  55.  70.  58.  86.  71.\n",
      "  63.  93.  72.  60.  47.  49.  50.  33.  54.  56.  51.  53.  48.  44.\n",
      "  45.  40.  52.  28.  36.  46.  30.  41.]\n",
      "     Meta_score                   Series_Title\n",
      "20          NaN                Soorarai Pottru\n",
      "54          NaN      Ayla: The Daughter of War\n",
      "55          NaN                   Vikram Vedha\n",
      "57          NaN                         Dangal\n",
      "65          NaN               Taare Zameen Par\n",
      "..          ...                            ...\n",
      "872         NaN  The Day the Earth Stood Still\n",
      "874         NaN                          Gilda\n",
      "899         NaN                      El cuerpo\n",
      "909         NaN                      Celda 211\n",
      "913         NaN                      Die Welle\n",
      "\n",
      "[157 rows x 2 columns]\n"
     ]
    }
   ],
   "source": [
    "print(dataset['Meta_score'].unique())\n",
    "print(dataset[dataset['Meta_score'].isna()][['Meta_score', 'Series_Title']])"
   ]
  },
  {
   "cell_type": "markdown",
   "id": "8bef5816",
   "metadata": {},
   "source": [
    "#### Nessa etapa do EDA ainda estou lidando com os tipos de coluna e preprocessamento dos dados.\n",
    "- Para o Certificate, transformei a coluna para o tipo de category, e os NaN transformei em \"Unrated\"\n",
    "- Com Runtime eu separei a coluna em duas: Runtime_time para o valor númerico do tempo e Runtime_type para o tipo de tempo (min ou hour se houvesse.)\n",
    "- **Para o Genre, identifiquei que cada valor é uma lista de gêneros separados por \", \" portanto usarei isso na Pipeline para ter um One-hot encodding válido.**\n"
   ]
  },
  {
   "cell_type": "code",
   "execution_count": null,
   "id": "1349ef98",
   "metadata": {},
   "outputs": [
    {
     "name": "stdout",
     "output_type": "stream",
     "text": [
      "<class 'pandas.core.frame.DataFrame'>\n",
      "Index: 999 entries, 1 to 999\n",
      "Data columns (total 17 columns):\n",
      " #   Column         Non-Null Count  Dtype   \n",
      "---  ------         --------------  -----   \n",
      " 0   Series_Title   999 non-null    object  \n",
      " 1   Released_Year  999 non-null    object  \n",
      " 2   Certificate    999 non-null    category\n",
      " 3   Runtime        999 non-null    object  \n",
      " 4   Genre          999 non-null    object  \n",
      " 5   IMDB_Rating    999 non-null    float64 \n",
      " 6   Overview       999 non-null    object  \n",
      " 7   Meta_score     842 non-null    float64 \n",
      " 8   Director       999 non-null    object  \n",
      " 9   Star1          999 non-null    object  \n",
      " 10  Star2          999 non-null    object  \n",
      " 11  Star3          999 non-null    object  \n",
      " 12  Star4          999 non-null    object  \n",
      " 13  No_of_Votes    999 non-null    int64   \n",
      " 14  Gross          830 non-null    object  \n",
      " 15  Runtime_time   999 non-null    int64   \n",
      " 16  Runtime_type   999 non-null    category\n",
      "dtypes: category(2), float64(2), int64(2), object(11)\n",
      "memory usage: 127.6+ KB\n",
      "None\n",
      "Meta_score    157\n",
      "Gross         169\n",
      "dtype: int64\n"
     ]
    }
   ],
   "source": [
    "dataset['Certificate'] = dataset['Certificate'].astype('category')\n",
    "dataset['Certificate'] = dataset['Certificate'].fillna('Unrated')\n",
    "\n",
    "dataset['Runtime_time'] = dataset['Runtime'].str.split().str[0].astype(int)\n",
    "dataset['Runtime_type'] = dataset['Runtime'].str.split().str[1].astype('category')\n",
    "\n",
    "\n",
    "\n",
    "\n",
    "\n",
    "\n",
    "print(dataset.info())\n",
    "print(dataset.isna().sum()[dataset.isna().sum() > 0])"
   ]
  },
  {
   "cell_type": "code",
   "execution_count": null,
   "id": "d1b7c8fa",
   "metadata": {},
   "outputs": [],
   "source": []
  }
 ],
 "metadata": {
  "kernelspec": {
   "display_name": ".venv",
   "language": "python",
   "name": "python3"
  },
  "language_info": {
   "codemirror_mode": {
    "name": "ipython",
    "version": 3
   },
   "file_extension": ".py",
   "mimetype": "text/x-python",
   "name": "python",
   "nbconvert_exporter": "python",
   "pygments_lexer": "ipython3",
   "version": "3.11.2"
  }
 },
 "nbformat": 4,
 "nbformat_minor": 5
}
